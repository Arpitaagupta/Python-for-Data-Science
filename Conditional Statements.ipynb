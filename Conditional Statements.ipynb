{
 "cells": [
  {
   "cell_type": "code",
   "execution_count": 1,
   "id": "df657448",
   "metadata": {},
   "outputs": [],
   "source": [
    "x = 5"
   ]
  },
  {
   "cell_type": "code",
   "execution_count": 3,
   "id": "78ce330c",
   "metadata": {},
   "outputs": [
    {
     "name": "stdout",
     "output_type": "stream",
     "text": [
      "x is positive\n"
     ]
    }
   ],
   "source": [
    "if (x>0):\n",
    "    print(\"x is positive\")\n",
    "elif(x==0):\n",
    "    print(\"x is 0\")\n",
    "else:\n",
    "    print(\"x is negative\")"
   ]
  },
  {
   "cell_type": "markdown",
   "id": "8204328a",
   "metadata": {},
   "source": [
    "## Problem 1. Take a variable x and print \"Even\", is the number is divisible by 3, otherwise print odd."
   ]
  },
  {
   "cell_type": "code",
   "execution_count": 5,
   "id": "feaa007e",
   "metadata": {},
   "outputs": [
    {
     "name": "stdout",
     "output_type": "stream",
     "text": [
      "x is odd\n"
     ]
    }
   ],
   "source": [
    "if(x % 2 == 0):\n",
    "    print(\"x is even\")\n",
    "else:\n",
    "    print(\"x is odd\")"
   ]
  },
  {
   "cell_type": "markdown",
   "id": "f6d5ab4c",
   "metadata": {},
   "source": [
    "## Problem 2. Take a variable y and print \"Grade A\" if y is greater than 90, \"Grade B\" if y is greater than 60 but less than or equal to 90 and grade f otherwise."
   ]
  },
  {
   "cell_type": "code",
   "execution_count": 8,
   "id": "a00b3409",
   "metadata": {},
   "outputs": [],
   "source": [
    "y = 82"
   ]
  },
  {
   "cell_type": "code",
   "execution_count": 10,
   "id": "b8cf1212",
   "metadata": {},
   "outputs": [
    {
     "name": "stdout",
     "output_type": "stream",
     "text": [
      "Grade B\n"
     ]
    }
   ],
   "source": [
    "if(y>90 and y<=100):\n",
    "    print(\"Grade A\")\n",
    "elif(y>60 and y<=90):\n",
    "    print(\"Grade B\")\n",
    "else:\n",
    "    print(\"Grade F\")"
   ]
  },
  {
   "cell_type": "code",
   "execution_count": null,
   "id": "3af0b0b1",
   "metadata": {},
   "outputs": [],
   "source": []
  }
 ],
 "metadata": {
  "kernelspec": {
   "display_name": "Python 3 (ipykernel)",
   "language": "python",
   "name": "python3"
  },
  "language_info": {
   "codemirror_mode": {
    "name": "ipython",
    "version": 3
   },
   "file_extension": ".py",
   "mimetype": "text/x-python",
   "name": "python",
   "nbconvert_exporter": "python",
   "pygments_lexer": "ipython3",
   "version": "3.11.3"
  }
 },
 "nbformat": 4,
 "nbformat_minor": 5
}
