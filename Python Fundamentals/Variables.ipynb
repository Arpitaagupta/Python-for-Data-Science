{
 "cells": [
  {
   "cell_type": "code",
   "execution_count": 1,
   "id": "4bb61b58",
   "metadata": {},
   "outputs": [
    {
     "name": "stdout",
     "output_type": "stream",
     "text": [
      "5\n"
     ]
    }
   ],
   "source": [
    "i=5\n",
    "j=i\n",
    "j=3\n",
    "print(i)"
   ]
  },
  {
   "cell_type": "markdown",
   "id": "185e9b9d",
   "metadata": {},
   "source": [
    "## Variable naming rules in Python\n",
    "\n",
    "### 1. Python is case sensitive.\n",
    "A=5 and a=3 are different\n",
    "\n",
    "### 2. Variable name cannot start with special characters except underscore(_).\n",
    "_sam = 5 is valid but @sam = 5 is invalid\n",
    "\n",
    "### 3. Variable name cannot start with a number.\n",
    "9sam = 5 is invalid."
   ]
  },
  {
   "cell_type": "markdown",
   "id": "9c64caad",
   "metadata": {},
   "source": [
    "## Datatypes in Python\n",
    "\n",
    "A variable can be used to store different type of data \n",
    "\n",
    "int - Integer Numbers\n",
    "\n",
    "float - Decimal Numbers\n",
    "\n",
    "bool - Boolean Values\n",
    "\n",
    "str - Strings\n",
    "\n",
    "\n"
   ]
  },
  {
   "cell_type": "markdown",
   "id": "a401784a",
   "metadata": {},
   "source": [
    "## Variable Assignment"
   ]
  },
  {
   "cell_type": "code",
   "execution_count": 2,
   "id": "d858dc5b",
   "metadata": {},
   "outputs": [
    {
     "name": "stdout",
     "output_type": "stream",
     "text": [
      "5\n"
     ]
    }
   ],
   "source": [
    "a=5\n",
    "print(a)"
   ]
  },
  {
   "cell_type": "code",
   "execution_count": 3,
   "id": "fad801d3",
   "metadata": {},
   "outputs": [
    {
     "name": "stdout",
     "output_type": "stream",
     "text": [
      "4\n"
     ]
    }
   ],
   "source": [
    "A=4\n",
    "print(A)"
   ]
  },
  {
   "cell_type": "markdown",
   "id": "ee832248",
   "metadata": {},
   "source": [
    "## How variables work in Python?"
   ]
  },
  {
   "cell_type": "code",
   "execution_count": 5,
   "id": "60f08688",
   "metadata": {},
   "outputs": [],
   "source": [
    "a=7\n",
    "b=a\n",
    "a=3"
   ]
  },
  {
   "cell_type": "code",
   "execution_count": 6,
   "id": "a00e143b",
   "metadata": {},
   "outputs": [
    {
     "name": "stdout",
     "output_type": "stream",
     "text": [
      "3\n"
     ]
    }
   ],
   "source": [
    "print(a)"
   ]
  },
  {
   "cell_type": "code",
   "execution_count": 7,
   "id": "26542323",
   "metadata": {},
   "outputs": [
    {
     "name": "stdout",
     "output_type": "stream",
     "text": [
      "7\n"
     ]
    }
   ],
   "source": [
    "print(b)"
   ]
  },
  {
   "cell_type": "code",
   "execution_count": 8,
   "id": "f530cc8a",
   "metadata": {},
   "outputs": [],
   "source": [
    "#datatypes\n",
    "\n",
    "var = 5"
   ]
  },
  {
   "cell_type": "code",
   "execution_count": 9,
   "id": "3a590eaa",
   "metadata": {},
   "outputs": [
    {
     "data": {
      "text/plain": [
       "int"
      ]
     },
     "execution_count": 9,
     "metadata": {},
     "output_type": "execute_result"
    }
   ],
   "source": [
    "type(var)"
   ]
  },
  {
   "cell_type": "code",
   "execution_count": 10,
   "id": "cae10873",
   "metadata": {},
   "outputs": [
    {
     "data": {
      "text/plain": [
       "str"
      ]
     },
     "execution_count": 10,
     "metadata": {},
     "output_type": "execute_result"
    }
   ],
   "source": [
    "name = \"arpita\"\n",
    "type(name)"
   ]
  },
  {
   "cell_type": "code",
   "execution_count": null,
   "id": "15c49458",
   "metadata": {},
   "outputs": [],
   "source": []
  }
 ],
 "metadata": {
  "kernelspec": {
   "display_name": "Python 3 (ipykernel)",
   "language": "python",
   "name": "python3"
  },
  "language_info": {
   "codemirror_mode": {
    "name": "ipython",
    "version": 3
   },
   "file_extension": ".py",
   "mimetype": "text/x-python",
   "name": "python",
   "nbconvert_exporter": "python",
   "pygments_lexer": "ipython3",
   "version": "3.11.3"
  }
 },
 "nbformat": 4,
 "nbformat_minor": 5
}
