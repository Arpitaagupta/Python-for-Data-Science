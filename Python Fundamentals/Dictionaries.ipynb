{
 "cells": [
  {
   "cell_type": "markdown",
   "id": "bbdb6ffe",
   "metadata": {},
   "source": [
    "## Why dictionaries :\n",
    "1. Sometimes we do not want our data to be sequence.\n",
    "2. Sometime swe need to access data by names."
   ]
  },
  {
   "cell_type": "markdown",
   "id": "b1db4f38",
   "metadata": {},
   "source": [
    "# 1. What is dictionary?\n",
    "###  A dictionary is an unordered data structure with elements separated by comma and stored as key:value pair.\n",
    "### A dictionary is enclosed with curly braces."
   ]
  },
  {
   "cell_type": "code",
   "execution_count": 2,
   "id": "18ee579d",
   "metadata": {},
   "outputs": [],
   "source": [
    "#Dictionary--> key : value , value = number\n",
    "dict1 = {'Ramesh':150, 'Suresh':146, 'Sudesh':160}"
   ]
  },
  {
   "cell_type": "code",
   "execution_count": 3,
   "id": "53a738ef",
   "metadata": {},
   "outputs": [
    {
     "data": {
      "text/plain": [
       "{'Ramesh': 150, 'Suresh': 146, 'Sudesh': 160}"
      ]
     },
     "execution_count": 3,
     "metadata": {},
     "output_type": "execute_result"
    }
   ],
   "source": [
    "dict1"
   ]
  },
  {
   "cell_type": "code",
   "execution_count": 4,
   "id": "568eb3fe",
   "metadata": {},
   "outputs": [],
   "source": [
    "#Dictionary--> key : value , value = List\n",
    "dict2 = {'Ramesh':[150,46], 'Suresh':[146,58], 'Sudesh':[160,50]}"
   ]
  },
  {
   "cell_type": "code",
   "execution_count": 5,
   "id": "105bbc85",
   "metadata": {},
   "outputs": [
    {
     "data": {
      "text/plain": [
       "{'Ramesh': [150, 46], 'Suresh': [146, 58], 'Sudesh': [160, 50]}"
      ]
     },
     "execution_count": 5,
     "metadata": {},
     "output_type": "execute_result"
    }
   ],
   "source": [
    "dict2"
   ]
  },
  {
   "cell_type": "markdown",
   "id": "50588fed",
   "metadata": {},
   "source": [
    "# 2. Accessing elements of a dictionary.\n",
    "### Elements are accessed by keys rather than index.\n",
    "\n",
    "#### Accessing dictionary by index throws error."
   ]
  },
  {
   "cell_type": "markdown",
   "id": "11b7309b",
   "metadata": {},
   "source": [
    "# 3. Adding elements to dictionary."
   ]
  },
  {
   "cell_type": "code",
   "execution_count": 8,
   "id": "bf94e6d3",
   "metadata": {},
   "outputs": [],
   "source": [
    "#Adding a single element\n",
    "dict2['Neeraj']=[176,25]"
   ]
  },
  {
   "cell_type": "code",
   "execution_count": 9,
   "id": "89640c85",
   "metadata": {},
   "outputs": [
    {
     "data": {
      "text/plain": [
       "{'Ramesh': [150, 46],\n",
       " 'Suresh': [146, 58],\n",
       " 'Sudesh': [160, 50],\n",
       " 'Neeraj': [176, 25]}"
      ]
     },
     "execution_count": 9,
     "metadata": {},
     "output_type": "execute_result"
    }
   ],
   "source": [
    "dict2"
   ]
  },
  {
   "cell_type": "code",
   "execution_count": 12,
   "id": "504fd6e1",
   "metadata": {},
   "outputs": [],
   "source": [
    "#Adding multiple elements at once\n",
    "dict2.update({'sunil':[150,70],'disha':[155,80]})"
   ]
  },
  {
   "cell_type": "code",
   "execution_count": 13,
   "id": "4bfd4f95",
   "metadata": {},
   "outputs": [
    {
     "data": {
      "text/plain": [
       "{'Ramesh': [150, 46],\n",
       " 'Suresh': [146, 58],\n",
       " 'Sudesh': [160, 50],\n",
       " 'Neeraj': [176, 25],\n",
       " 'sunil': [150, 70],\n",
       " 'disha': [155, 80]}"
      ]
     },
     "execution_count": 13,
     "metadata": {},
     "output_type": "execute_result"
    }
   ],
   "source": [
    "dict2"
   ]
  },
  {
   "cell_type": "markdown",
   "id": "c45a8073",
   "metadata": {},
   "source": [
    "# 4. Deleting elements from a dictionary. "
   ]
  },
  {
   "cell_type": "code",
   "execution_count": 14,
   "id": "b40f510d",
   "metadata": {},
   "outputs": [],
   "source": [
    "#deleting an element\n",
    "del dict2['Ramesh']"
   ]
  },
  {
   "cell_type": "code",
   "execution_count": 15,
   "id": "83caef88",
   "metadata": {},
   "outputs": [
    {
     "data": {
      "text/plain": [
       "{'Suresh': [146, 58],\n",
       " 'Sudesh': [160, 50],\n",
       " 'Neeraj': [176, 25],\n",
       " 'sunil': [150, 70],\n",
       " 'disha': [155, 80]}"
      ]
     },
     "execution_count": 15,
     "metadata": {},
     "output_type": "execute_result"
    }
   ],
   "source": [
    "dict2"
   ]
  },
  {
   "cell_type": "code",
   "execution_count": 16,
   "id": "28a052ab",
   "metadata": {},
   "outputs": [],
   "source": [
    "#Creating a dictionary\n",
    "\n",
    "marks = {'history':45, 'Geography':54, 'Hindi':56}"
   ]
  },
  {
   "cell_type": "code",
   "execution_count": 17,
   "id": "10f9ab9b",
   "metadata": {},
   "outputs": [
    {
     "data": {
      "text/plain": [
       "{'history': 45, 'Geography': 54, 'Hindi': 56}"
      ]
     },
     "execution_count": 17,
     "metadata": {},
     "output_type": "execute_result"
    }
   ],
   "source": [
    "marks"
   ]
  },
  {
   "cell_type": "code",
   "execution_count": 18,
   "id": "bcbc76f5",
   "metadata": {},
   "outputs": [
    {
     "data": {
      "text/plain": [
       "54"
      ]
     },
     "execution_count": 18,
     "metadata": {},
     "output_type": "execute_result"
    }
   ],
   "source": [
    "#Access Elements\n",
    "marks['Geography']"
   ]
  },
  {
   "cell_type": "code",
   "execution_count": 19,
   "id": "79b4df6b",
   "metadata": {},
   "outputs": [],
   "source": [
    "#Adding elements\n",
    "marks['English']=45"
   ]
  },
  {
   "cell_type": "code",
   "execution_count": 20,
   "id": "78be7b8e",
   "metadata": {},
   "outputs": [
    {
     "data": {
      "text/plain": [
       "{'history': 45, 'Geography': 54, 'Hindi': 56, 'English': 45}"
      ]
     },
     "execution_count": 20,
     "metadata": {},
     "output_type": "execute_result"
    }
   ],
   "source": [
    "marks"
   ]
  },
  {
   "cell_type": "code",
   "execution_count": 21,
   "id": "596bff97",
   "metadata": {},
   "outputs": [],
   "source": [
    "#Adding multiple elements\n",
    "marks.update({'Chemistry':89, 'Physics':98})"
   ]
  },
  {
   "cell_type": "code",
   "execution_count": 22,
   "id": "a6b63228",
   "metadata": {},
   "outputs": [
    {
     "data": {
      "text/plain": [
       "{'history': 45,\n",
       " 'Geography': 54,\n",
       " 'Hindi': 56,\n",
       " 'English': 45,\n",
       " 'Chemistry': 89,\n",
       " 'Physics': 98}"
      ]
     },
     "execution_count": 22,
     "metadata": {},
     "output_type": "execute_result"
    }
   ],
   "source": [
    "marks"
   ]
  },
  {
   "cell_type": "code",
   "execution_count": 23,
   "id": "6cf59b11",
   "metadata": {},
   "outputs": [],
   "source": [
    "#deleting an element\n",
    "del marks['Hindi']"
   ]
  },
  {
   "cell_type": "code",
   "execution_count": 24,
   "id": "185399bf",
   "metadata": {},
   "outputs": [
    {
     "data": {
      "text/plain": [
       "{'history': 45, 'Geography': 54, 'English': 45, 'Chemistry': 89, 'Physics': 98}"
      ]
     },
     "execution_count": 24,
     "metadata": {},
     "output_type": "execute_result"
    }
   ],
   "source": [
    "marks"
   ]
  },
  {
   "cell_type": "code",
   "execution_count": null,
   "id": "45f8f62a",
   "metadata": {},
   "outputs": [],
   "source": []
  }
 ],
 "metadata": {
  "kernelspec": {
   "display_name": "Python 3 (ipykernel)",
   "language": "python",
   "name": "python3"
  },
  "language_info": {
   "codemirror_mode": {
    "name": "ipython",
    "version": 3
   },
   "file_extension": ".py",
   "mimetype": "text/x-python",
   "name": "python",
   "nbconvert_exporter": "python",
   "pygments_lexer": "ipython3",
   "version": "3.11.3"
  }
 },
 "nbformat": 4,
 "nbformat_minor": 5
}
