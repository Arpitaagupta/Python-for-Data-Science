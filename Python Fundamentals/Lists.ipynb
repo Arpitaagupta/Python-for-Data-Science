{
 "cells": [
  {
   "cell_type": "code",
   "execution_count": 1,
   "id": "80cae83f",
   "metadata": {},
   "outputs": [],
   "source": [
    "# A list is an ordered data structure where elements are sepearted by comma and enclosed within square brackets."
   ]
  },
  {
   "cell_type": "code",
   "execution_count": 4,
   "id": "b327267b",
   "metadata": {},
   "outputs": [],
   "source": [
    "list1 =[1,2,3,4,5,6]\n",
    "list2 = ['Python', 'is', 'awesome']\n",
    "list3 = ['Python', 1, 'is', 'true', 'awesome', 5]\n"
   ]
  },
  {
   "cell_type": "markdown",
   "id": "e8d99884",
   "metadata": {},
   "source": [
    "# Sub-setting a List"
   ]
  },
  {
   "cell_type": "code",
   "execution_count": 7,
   "id": "5a2fe5be",
   "metadata": {},
   "outputs": [
    {
     "data": {
      "text/plain": [
       "'true'"
      ]
     },
     "execution_count": 7,
     "metadata": {},
     "output_type": "execute_result"
    }
   ],
   "source": [
    "#extracting a single element\n",
    "list3[3]"
   ]
  },
  {
   "cell_type": "code",
   "execution_count": 6,
   "id": "518dd159",
   "metadata": {},
   "outputs": [
    {
     "data": {
      "text/plain": [
       "1"
      ]
     },
     "execution_count": 6,
     "metadata": {},
     "output_type": "execute_result"
    }
   ],
   "source": [
    "list3[1]"
   ]
  },
  {
   "cell_type": "code",
   "execution_count": 8,
   "id": "30d28b4d",
   "metadata": {},
   "outputs": [
    {
     "data": {
      "text/plain": [
       "[1, 'is', 'true']"
      ]
     },
     "execution_count": 8,
     "metadata": {},
     "output_type": "execute_result"
    }
   ],
   "source": [
    "#extracting sequence of elements\n",
    "list3[1:4]"
   ]
  },
  {
   "cell_type": "code",
   "execution_count": 9,
   "id": "2c4da526",
   "metadata": {},
   "outputs": [
    {
     "data": {
      "text/plain": [
       "5"
      ]
     },
     "execution_count": 9,
     "metadata": {},
     "output_type": "execute_result"
    }
   ],
   "source": [
    "#extracting element using negative indices\n",
    "list3[-1] #to extract last element of list"
   ]
  },
  {
   "cell_type": "markdown",
   "id": "be4c8cd6",
   "metadata": {},
   "source": [
    "# Adding elements to existing list"
   ]
  },
  {
   "cell_type": "markdown",
   "id": "fe5dcac9",
   "metadata": {},
   "source": [
    "### 1.Adding single element using append()"
   ]
  },
  {
   "cell_type": "code",
   "execution_count": 10,
   "id": "ef3706bd",
   "metadata": {},
   "outputs": [],
   "source": [
    "list3.append(6)"
   ]
  },
  {
   "cell_type": "code",
   "execution_count": 14,
   "id": "9b0759ac",
   "metadata": {},
   "outputs": [
    {
     "data": {
      "text/plain": [
       "['Python', 1, 'is', 'true', 'awesome', 5, 6, 'arpita', 11]"
      ]
     },
     "execution_count": 14,
     "metadata": {},
     "output_type": "execute_result"
    }
   ],
   "source": [
    "# 6 will be represented at the end of the list\n",
    "list3"
   ]
  },
  {
   "cell_type": "markdown",
   "id": "a84a53d7",
   "metadata": {},
   "source": [
    "## 2. Adding multiple elements to the list"
   ]
  },
  {
   "cell_type": "code",
   "execution_count": 12,
   "id": "18ecca35",
   "metadata": {},
   "outputs": [],
   "source": [
    "list3.extend([\"arpita\", 11])"
   ]
  },
  {
   "cell_type": "code",
   "execution_count": 13,
   "id": "7e5a3458",
   "metadata": {},
   "outputs": [
    {
     "data": {
      "text/plain": [
       "['Python', 1, 'is', 'true', 'awesome', 5, 6, 'arpita', 11]"
      ]
     },
     "execution_count": 13,
     "metadata": {},
     "output_type": "execute_result"
    }
   ],
   "source": [
    "list3"
   ]
  },
  {
   "cell_type": "markdown",
   "id": "6e02cb08",
   "metadata": {},
   "source": [
    "## 3. Adding list to a list"
   ]
  },
  {
   "cell_type": "code",
   "execution_count": 15,
   "id": "6b2a08d7",
   "metadata": {},
   "outputs": [
    {
     "data": {
      "text/plain": [
       "['Python', 1, 'is', 'true', 'awesome', 5, 6, 'arpita', 11, [7, 8]]"
      ]
     },
     "execution_count": 15,
     "metadata": {},
     "output_type": "execute_result"
    }
   ],
   "source": [
    "list3.append([7,8])\n",
    "list3"
   ]
  },
  {
   "cell_type": "markdown",
   "id": "82d62b8b",
   "metadata": {},
   "source": [
    "# Deleting elements from a list."
   ]
  },
  {
   "cell_type": "code",
   "execution_count": 21,
   "id": "4499247f",
   "metadata": {},
   "outputs": [
    {
     "ename": "ValueError",
     "evalue": "list.remove(x): x not in list",
     "output_type": "error",
     "traceback": [
      "\u001b[1;31m---------------------------------------------------------------------------\u001b[0m",
      "\u001b[1;31mValueError\u001b[0m                                Traceback (most recent call last)",
      "Cell \u001b[1;32mIn[21], line 1\u001b[0m\n\u001b[1;32m----> 1\u001b[0m list3\u001b[38;5;241m.\u001b[39mremove(\u001b[38;5;241m1\u001b[39m)\n",
      "\u001b[1;31mValueError\u001b[0m: list.remove(x): x not in list"
     ]
    }
   ],
   "source": [
    "list3.remove(1)"
   ]
  },
  {
   "cell_type": "code",
   "execution_count": 17,
   "id": "4d299268",
   "metadata": {},
   "outputs": [
    {
     "data": {
      "text/plain": [
       "['Python', 'is', 'true', 'awesome', 5, 6, 'arpita', 11, [7, 8]]"
      ]
     },
     "execution_count": 17,
     "metadata": {},
     "output_type": "execute_result"
    }
   ],
   "source": [
    "list3"
   ]
  },
  {
   "cell_type": "code",
   "execution_count": 18,
   "id": "bd5c1fe2",
   "metadata": {},
   "outputs": [],
   "source": [
    "del list3[3]"
   ]
  },
  {
   "cell_type": "code",
   "execution_count": 19,
   "id": "4cc6a098",
   "metadata": {},
   "outputs": [
    {
     "data": {
      "text/plain": [
       "['Python', 'is', 'true', 5, 6, 'arpita', 11, [7, 8]]"
      ]
     },
     "execution_count": 19,
     "metadata": {},
     "output_type": "execute_result"
    }
   ],
   "source": [
    "list3"
   ]
  },
  {
   "cell_type": "markdown",
   "id": "8fd47457",
   "metadata": {},
   "source": [
    "# Looping over a list"
   ]
  },
  {
   "cell_type": "code",
   "execution_count": 22,
   "id": "c3ea806d",
   "metadata": {},
   "outputs": [
    {
     "name": "stdout",
     "output_type": "stream",
     "text": [
      "Python\n",
      "is\n",
      "true\n",
      "5\n",
      "6\n",
      "arpita\n",
      "11\n",
      "[7, 8]\n"
     ]
    }
   ],
   "source": [
    "for i in list3:\n",
    "    print(i)"
   ]
  },
  {
   "cell_type": "markdown",
   "id": "51239922",
   "metadata": {},
   "source": [
    "# Creating a list"
   ]
  },
  {
   "cell_type": "code",
   "execution_count": 23,
   "id": "0406ef1b",
   "metadata": {},
   "outputs": [],
   "source": [
    "marks = [1,2,3,4,5,6,7,8,9,10]"
   ]
  },
  {
   "cell_type": "code",
   "execution_count": 24,
   "id": "3257a512",
   "metadata": {},
   "outputs": [
    {
     "data": {
      "text/plain": [
       "[1, 2, 3, 4, 5, 6, 7, 8, 9, 10]"
      ]
     },
     "execution_count": 24,
     "metadata": {},
     "output_type": "execute_result"
    }
   ],
   "source": [
    "marks"
   ]
  },
  {
   "cell_type": "code",
   "execution_count": 25,
   "id": "071c207e",
   "metadata": {},
   "outputs": [
    {
     "data": {
      "text/plain": [
       "6"
      ]
     },
     "execution_count": 25,
     "metadata": {},
     "output_type": "execute_result"
    }
   ],
   "source": [
    "marks[5]"
   ]
  },
  {
   "cell_type": "code",
   "execution_count": 27,
   "id": "01f1b306",
   "metadata": {},
   "outputs": [
    {
     "data": {
      "text/plain": [
       "[1, 2, 3, 4, 5, 6]"
      ]
     },
     "execution_count": 27,
     "metadata": {},
     "output_type": "execute_result"
    }
   ],
   "source": [
    "marks[0:6]\n",
    "#index 6 is not included in output"
   ]
  },
  {
   "cell_type": "code",
   "execution_count": 28,
   "id": "7f5562fe",
   "metadata": {},
   "outputs": [],
   "source": [
    "#adding an element\n",
    "\n",
    "marks.append(11)"
   ]
  },
  {
   "cell_type": "code",
   "execution_count": 29,
   "id": "be8f1113",
   "metadata": {},
   "outputs": [
    {
     "data": {
      "text/plain": [
       "[1, 2, 3, 4, 5, 6, 7, 8, 9, 10, 11]"
      ]
     },
     "execution_count": 29,
     "metadata": {},
     "output_type": "execute_result"
    }
   ],
   "source": [
    "marks"
   ]
  },
  {
   "cell_type": "code",
   "execution_count": 30,
   "id": "55c12e8e",
   "metadata": {},
   "outputs": [],
   "source": [
    "marks.extend([12,13])"
   ]
  },
  {
   "cell_type": "code",
   "execution_count": 31,
   "id": "e7f56c4c",
   "metadata": {},
   "outputs": [
    {
     "data": {
      "text/plain": [
       "[1, 2, 3, 4, 5, 6, 7, 8, 9, 10, 11, 12, 13]"
      ]
     },
     "execution_count": 31,
     "metadata": {},
     "output_type": "execute_result"
    }
   ],
   "source": [
    "marks"
   ]
  },
  {
   "cell_type": "code",
   "execution_count": 32,
   "id": "e15335c1",
   "metadata": {},
   "outputs": [],
   "source": [
    "marks.append([14,15])"
   ]
  },
  {
   "cell_type": "code",
   "execution_count": 33,
   "id": "547b9c9b",
   "metadata": {},
   "outputs": [
    {
     "data": {
      "text/plain": [
       "[1, 2, 3, 4, 5, 6, 7, 8, 9, 10, 11, 12, 13, [14, 15]]"
      ]
     },
     "execution_count": 33,
     "metadata": {},
     "output_type": "execute_result"
    }
   ],
   "source": [
    "marks"
   ]
  },
  {
   "cell_type": "markdown",
   "id": "e4108f8e",
   "metadata": {},
   "source": [
    "# Deleting Elements in a list\n"
   ]
  },
  {
   "cell_type": "code",
   "execution_count": 34,
   "id": "097012a7",
   "metadata": {},
   "outputs": [],
   "source": [
    "marks.remove([14,15])"
   ]
  },
  {
   "cell_type": "code",
   "execution_count": 35,
   "id": "e9bb7498",
   "metadata": {},
   "outputs": [
    {
     "data": {
      "text/plain": [
       "[1, 2, 3, 4, 5, 6, 7, 8, 9, 10, 11, 12, 13]"
      ]
     },
     "execution_count": 35,
     "metadata": {},
     "output_type": "execute_result"
    }
   ],
   "source": [
    "marks"
   ]
  },
  {
   "cell_type": "code",
   "execution_count": 37,
   "id": "dcf34193",
   "metadata": {},
   "outputs": [],
   "source": [
    "del marks[0]"
   ]
  },
  {
   "cell_type": "code",
   "execution_count": 38,
   "id": "f9f52dfe",
   "metadata": {},
   "outputs": [
    {
     "data": {
      "text/plain": [
       "[2, 3, 4, 5, 6, 7, 8, 9, 10, 11, 12, 13]"
      ]
     },
     "execution_count": 38,
     "metadata": {},
     "output_type": "execute_result"
    }
   ],
   "source": [
    "marks"
   ]
  },
  {
   "cell_type": "markdown",
   "id": "020a6a73",
   "metadata": {},
   "source": [
    "# accessing elements in list"
   ]
  },
  {
   "cell_type": "code",
   "execution_count": 39,
   "id": "76828f41",
   "metadata": {},
   "outputs": [
    {
     "name": "stdout",
     "output_type": "stream",
     "text": [
      "2\n",
      "3\n",
      "4\n",
      "5\n",
      "6\n",
      "7\n",
      "8\n",
      "9\n",
      "10\n",
      "11\n",
      "12\n",
      "13\n"
     ]
    }
   ],
   "source": [
    "for mark in marks:\n",
    "    print(mark)"
   ]
  },
  {
   "cell_type": "code",
   "execution_count": 40,
   "id": "53b566db",
   "metadata": {},
   "outputs": [
    {
     "name": "stdout",
     "output_type": "stream",
     "text": [
      "3\n",
      "4\n",
      "5\n",
      "6\n",
      "7\n",
      "8\n",
      "9\n",
      "10\n",
      "11\n",
      "12\n",
      "13\n",
      "14\n"
     ]
    }
   ],
   "source": [
    "for mark in marks:\n",
    "    print(mark+1)"
   ]
  },
  {
   "cell_type": "code",
   "execution_count": null,
   "id": "c391b499",
   "metadata": {},
   "outputs": [],
   "source": []
  }
 ],
 "metadata": {
  "kernelspec": {
   "display_name": "Python 3 (ipykernel)",
   "language": "python",
   "name": "python3"
  },
  "language_info": {
   "codemirror_mode": {
    "name": "ipython",
    "version": 3
   },
   "file_extension": ".py",
   "mimetype": "text/x-python",
   "name": "python",
   "nbconvert_exporter": "python",
   "pygments_lexer": "ipython3",
   "version": "3.11.3"
  }
 },
 "nbformat": 4,
 "nbformat_minor": 5
}
