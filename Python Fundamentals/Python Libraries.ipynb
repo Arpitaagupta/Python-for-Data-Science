{
 "cells": [
  {
   "cell_type": "markdown",
   "id": "8565f34d",
   "metadata": {},
   "source": [
    "## 1. Standarad Library\n",
    "## 2. Module\n",
    "## 3. Package"
   ]
  },
  {
   "cell_type": "markdown",
   "id": "119b5790",
   "metadata": {},
   "source": [
    "# 1. Standarad Libraries :\n",
    "    Set of skills that python have by default.\n",
    "    Set of code that is available in python.\n",
    "    \n",
    "   ## Examples of Built-in functions :\n",
    "    max(), min(), print() etc.\n",
    "    \n",
    "   ## Examples of Built-in constants :\n",
    "    False, True, None etc.\n",
    "    \n",
    "   ## Data types:\n",
    "    int, float, bool, str etc.\n",
    "    \n",
    "   ## File formats:\n",
    "    csv, excel, hdf5 etc."
   ]
  },
  {
   "cell_type": "markdown",
   "id": "3f637ccc",
   "metadata": {},
   "source": [
    "# 2. Module\n",
    "\n",
    "## arithmetic.py is a module\n",
    "Arithmetic.py \n",
    "\n",
    "def addition():\n",
    "-------------------\n",
    "def subtraction():\n",
    "-------------------\n",
    "def multiplication():\n",
    "-------------------\n",
    "def division():\n",
    "--------------------"
   ]
  },
  {
   "cell_type": "code",
   "execution_count": 3,
   "id": "9175fb70",
   "metadata": {},
   "outputs": [],
   "source": [
    "#similarly logical.py file containing functions for all logical operators is a module."
   ]
  },
  {
   "cell_type": "markdown",
   "id": "0ca89984",
   "metadata": {},
   "source": [
    "# 3. Package\n",
    "\n",
    "### Packages are collection of modules. It is similar to folders we have on our computers.\n",
    "I can take arithmetic.py module, logical.py module, comparison.py module in Operator folder. The operator folder then becomes apackage."
   ]
  },
  {
   "cell_type": "markdown",
   "id": "daa06b72",
   "metadata": {},
   "source": [
    "1. First method\n",
    "from Operator.Arithmetic import addition  \n",
    "## addition(3,5)\n",
    "\n",
    "#### Arithmetic package is inside Operator package and addition is class we want to use.\n",
    "\n",
    "2. Second Method\n",
    "from Operator import Arithmetic \n",
    "## Arithmetic.addition(3,5)"
   ]
  },
  {
   "cell_type": "code",
   "execution_count": null,
   "id": "c468c9fd",
   "metadata": {},
   "outputs": [],
   "source": []
  }
 ],
 "metadata": {
  "kernelspec": {
   "display_name": "Python 3 (ipykernel)",
   "language": "python",
   "name": "python3"
  },
  "language_info": {
   "codemirror_mode": {
    "name": "ipython",
    "version": 3
   },
   "file_extension": ".py",
   "mimetype": "text/x-python",
   "name": "python",
   "nbconvert_exporter": "python",
   "pygments_lexer": "ipython3",
   "version": "3.11.3"
  }
 },
 "nbformat": 4,
 "nbformat_minor": 5
}
