{
 "cells": [
  {
   "cell_type": "markdown",
   "id": "d7187e0f",
   "metadata": {},
   "source": [
    "# Functions:\n",
    "### 1. It is a reusable piece of code.\n",
    "### 2. Created for solving specific problem.\n",
    "\n",
    "## Functions are of two types :\n",
    "\n",
    "### 1. Built-in Functions : provided by Python\n",
    "    print(), range(), min(), max() etc..\n",
    "### 2. User Defined Functions\n",
    "    function to calculate the area of the circle : Area_of_circle() \n"
   ]
  },
  {
   "cell_type": "markdown",
   "id": "f62f9bad",
   "metadata": {},
   "source": [
    "### -------------------------------------------------------------------------------------------------\n",
    "## Syntax for defining function\n",
    "\n",
    "### def function_name(arguments):\n",
    "            statement 1\n",
    "            statement 2\n",
    "            ...\n",
    "            ...\n",
    "            return statement"
   ]
  },
  {
   "cell_type": "code",
   "execution_count": 1,
   "id": "edc12fbb",
   "metadata": {},
   "outputs": [],
   "source": [
    "def area_circle(radius):\n",
    "    area = 3.14 * r * r\n",
    "    return area"
   ]
  },
  {
   "cell_type": "markdown",
   "id": "4e4da184",
   "metadata": {},
   "source": [
    "## Problem : Create a function that takes two numbers as argument and returns the greater of two"
   ]
  },
  {
   "cell_type": "code",
   "execution_count": 4,
   "id": "5dc3f4ac",
   "metadata": {},
   "outputs": [],
   "source": [
    "def compare(a,b):\n",
    "    if (a>b):\n",
    "        greater = a\n",
    "    else:\n",
    "        greater = b\n",
    "        \n",
    "    return greater"
   ]
  },
  {
   "cell_type": "code",
   "execution_count": 5,
   "id": "cc751a19",
   "metadata": {},
   "outputs": [
    {
     "data": {
      "text/plain": [
       "50"
      ]
     },
     "execution_count": 5,
     "metadata": {},
     "output_type": "execute_result"
    }
   ],
   "source": [
    "compare(10,50)"
   ]
  },
  {
   "cell_type": "code",
   "execution_count": 6,
   "id": "4fdaaabe",
   "metadata": {},
   "outputs": [
    {
     "data": {
      "text/plain": [
       "14"
      ]
     },
     "execution_count": 6,
     "metadata": {},
     "output_type": "execute_result"
    }
   ],
   "source": [
    "compare(14,5)"
   ]
  },
  {
   "cell_type": "code",
   "execution_count": null,
   "id": "97563cb6",
   "metadata": {},
   "outputs": [],
   "source": []
  }
 ],
 "metadata": {
  "kernelspec": {
   "display_name": "Python 3 (ipykernel)",
   "language": "python",
   "name": "python3"
  },
  "language_info": {
   "codemirror_mode": {
    "name": "ipython",
    "version": 3
   },
   "file_extension": ".py",
   "mimetype": "text/x-python",
   "name": "python",
   "nbconvert_exporter": "python",
   "pygments_lexer": "ipython3",
   "version": "3.11.3"
  }
 },
 "nbformat": 4,
 "nbformat_minor": 5
}
